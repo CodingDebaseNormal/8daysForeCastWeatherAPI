{
 "cells": [
  {
   "cell_type": "markdown",
   "id": "27d54f9c",
   "metadata": {},
   "source": [
    "import modules"
   ]
  },
  {
   "cell_type": "code",
   "execution_count": null,
   "id": "920af8fd",
   "metadata": {},
   "outputs": [],
   "source": []
  },
  {
   "cell_type": "markdown",
   "id": "a739ae67",
   "metadata": {},
   "source": [
    "api key"
   ]
  },
  {
   "cell_type": "code",
   "execution_count": null,
   "id": "b292543b",
   "metadata": {},
   "outputs": [],
   "source": []
  },
  {
   "cell_type": "markdown",
   "id": "507ecf71",
   "metadata": {},
   "source": [
    "Get the coordinates of the city"
   ]
  },
  {
   "cell_type": "code",
   "execution_count": null,
   "id": "93b32574",
   "metadata": {},
   "outputs": [],
   "source": []
  },
  {
   "cell_type": "markdown",
   "id": "6b7da3e6",
   "metadata": {},
   "source": [
    "Get the temperatures"
   ]
  },
  {
   "cell_type": "code",
   "execution_count": null,
   "id": "5107fde0",
   "metadata": {},
   "outputs": [],
   "source": []
  },
  {
   "cell_type": "markdown",
   "id": "016bf8f6",
   "metadata": {},
   "source": [
    "Format the output"
   ]
  },
  {
   "cell_type": "code",
   "execution_count": null,
   "id": "c2374077",
   "metadata": {},
   "outputs": [],
   "source": []
  }
 ],
 "metadata": {
  "kernelspec": {
   "display_name": "Python 3",
   "language": "python",
   "name": "python3"
  },
  "language_info": {
   "codemirror_mode": {
    "name": "ipython",
    "version": 3
   },
   "file_extension": ".py",
   "mimetype": "text/x-python",
   "name": "python",
   "nbconvert_exporter": "python",
   "pygments_lexer": "ipython3",
   "version": "3.9.0"
  }
 },
 "nbformat": 4,
 "nbformat_minor": 5
}
