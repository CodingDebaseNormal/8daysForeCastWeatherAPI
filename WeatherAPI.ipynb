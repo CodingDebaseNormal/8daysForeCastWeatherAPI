{
 "cells": [
  {
   "cell_type": "markdown",
   "id": "27d54f9c",
   "metadata": {},
   "source": [
    "import modules"
   ]
  },
  {
   "cell_type": "code",
   "execution_count": 1,
   "id": "920af8fd",
   "metadata": {},
   "outputs": [],
   "source": [
    "import requests"
   ]
  },
  {
   "cell_type": "markdown",
   "id": "a739ae67",
   "metadata": {},
   "source": [
    "api key"
   ]
  },
  {
   "cell_type": "code",
   "execution_count": null,
   "id": "b292543b",
   "metadata": {},
   "outputs": [],
   "source": [
    "api_key = ###"
   ]
  },
  {
   "cell_type": "markdown",
   "id": "507ecf71",
   "metadata": {},
   "source": [
    "Get the coordinates of the city"
   ]
  },
  {
   "cell_type": "code",
   "execution_count": null,
   "id": "93b32574",
   "metadata": {},
   "outputs": [],
   "source": [
    "city_name = \"berlin\" #you can ask for user input instead\n",
    "\n",
    "#Let's get the city's coordinates (lat and lon)\n",
    "url = f'https://api.openweathermap.org/data/2.5/weather?q={city_name}&appid={api_key}'\n",
    "print(url)\n",
    "\n",
    "#Let's parse the Json\n",
    "req = requests.get(url)\n",
    "data = req.json()\n",
    "\n",
    "#Let's get the name, the longitude and latitude\n",
    "name = data['name']\n",
    "lon = data['coord']['lon']\n",
    "lat = data['coord']['lat']\n",
    "\n",
    "print(name, lon, lat)"
   ]
  },
  {
   "cell_type": "markdown",
   "id": "6b7da3e6",
   "metadata": {},
   "source": [
    "Get the temperatures"
   ]
  },
  {
   "cell_type": "code",
   "execution_count": null,
   "id": "5107fde0",
   "metadata": {},
   "outputs": [],
   "source": [
    "#Let's now use the One Call Api to get the 8 day forecast\n",
    "#We'll need to exclude the minutely and hourly\n",
    "exclude = \"minute,hourly\"\n",
    "\n",
    "url2 = f'https://api.openweather.map.org/data/2.5/onecall?lat={lat}&lon={lon}&exclude={exclude}&appid{API key}'\n",
    "print(url2)\n",
    "\n",
    "#Let's now parse the JSON\n",
    "req2 = requests.get(url2)\n",
    "data2 = req2.json()\n",
    "print(data2)\n",
    "\n",
    "#Let's now get the temp for the day, the night and the weather conditions\n",
    "days = []\n",
    "nights = []\n",
    "descr = []\n",
    "\n",
    "#We need to access 'daily'\n",
    "for i in data2['daily']:\n",
    "        \n",
    "        #We notice that the temperature is in Kelvin, so we need to do -273.15 for every datapoint\n",
    "        \n",
    "        #Let's start by days\n",
    "        #Let's round the decimal numbers to 2\n",
    "        days.append(round(i['temp']['day'] - 273.15,2))\n",
    "        \n",
    "        #Nights\n",
    "        nights.append(round(i['temp']['night'] - 273.15,2))\n",
    "        \n",
    "        #Let's now get the weather condition and the description\n",
    "        #'weather' [0] 'main' + 'weather' [0] 'description'\n",
    "        descr.append(i['weather'][0]['main'] + \": \" +i['weather'][0]['description'])\n",
    "\n",
    "print(days)\n",
    "print(nights2)\n",
    "print(descr)"
   ]
  },
  {
   "cell_type": "markdown",
   "id": "016bf8f6",
   "metadata": {},
   "source": [
    "Format the output"
   ]
  },
  {
   "cell_type": "code",
   "execution_count": null,
   "id": "c2374077",
   "metadata": {},
   "outputs": [],
   "source": [
    "#Let's now format the output to make it readable\n",
    "string = f'[ {name} - 8 days forecast]\\n'\n",
    "\n",
    "#Let's now loop for as much days as there available (8 in this case):\n",
    "for i in range(len(days)):\n",
    "    \n",
    "    #We want to print out the day (day1,2,3,4..)\n",
    "    #Also, day 1 = today and day 2 = tomorrow for reference\n",
    "    \n",
    "    if i == 0:\n",
    "        string += f'\\nDay {i+1} (Today)\\n'\n",
    "        \n",
    "    elif i == 1:\n",
    "        string += f'\\nDay {i+1} (Tomorrow)\\n'\n",
    "        \n",
    "    else:\n",
    "        string += f'\\nDay {i+1}\\n'\n",
    "        \n",
    "    string += 'Morning:' + str(days[i]) + '°C' + \"\\n\"\n",
    "    string += 'Night:' + str(nights[i]) + '°C' + \"\\n\"\n",
    "    string += 'Conditions:' + descr[i] + '\\n'\n",
    "    \n",
    "print(string)"
   ]
  }
 ],
 "metadata": {
  "kernelspec": {
   "display_name": "Python 3",
   "language": "python",
   "name": "python3"
  },
  "language_info": {
   "codemirror_mode": {
    "name": "ipython",
    "version": 3
   },
   "file_extension": ".py",
   "mimetype": "text/x-python",
   "name": "python",
   "nbconvert_exporter": "python",
   "pygments_lexer": "ipython3",
   "version": "3.9.0"
  }
 },
 "nbformat": 4,
 "nbformat_minor": 5
}
